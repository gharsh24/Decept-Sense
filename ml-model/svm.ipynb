{
 "cells": [
  {
   "cell_type": "code",
   "execution_count": 1,
   "metadata": {},
   "outputs": [
    {
     "name": "stdout",
     "output_type": "stream",
     "text": [
      "Original Dataset Columns: Index(['page_id', 'text', 'label', 'Pattern Category'], dtype='object')\n",
      "Second Dataset Columns: Index(['Pattern String', 'Comment', 'Pattern Category', 'Pattern Type',\n",
      "       'Where in website?', 'Deceptive?', 'Website Page'],\n",
      "      dtype='object')\n",
      "text                3919\n",
      "Pattern Category    3919\n",
      "dtype: int64\n"
     ]
    },
    {
     "name": "stderr",
     "output_type": "stream",
     "text": [
      "c:\\Users\\Harsh Goyal\\AppData\\Local\\Programs\\Python\\Python310\\lib\\site-packages\\sklearn\\svm\\_classes.py:32: FutureWarning: The default value of `dual` will change from `True` to `'auto'` in 1.5. Set the value of `dual` explicitly to suppress the warning.\n",
      "  warnings.warn(\n"
     ]
    },
    {
     "name": "stdout",
     "output_type": "stream",
     "text": [
      "Accuracy: 0.97\n",
      "Classification Report:\n",
      "               precision    recall  f1-score   support\n",
      "\n",
      "           0       0.50      1.00      0.67         1\n",
      "           2       0.99      0.96      0.97        90\n",
      "           3       0.95      0.97      0.96       230\n",
      "           4       1.00      1.00      1.00        12\n",
      "           5       0.97      0.99      0.98       235\n",
      "           6       0.75      0.43      0.55         7\n",
      "           7       0.98      0.98      0.98       129\n",
      "           8       1.00      1.00      1.00         3\n",
      "           9       0.99      0.94      0.96        77\n",
      "\n",
      "    accuracy                           0.97       784\n",
      "   macro avg       0.90      0.92      0.90       784\n",
      "weighted avg       0.97      0.97      0.97       784\n",
      "\n"
     ]
    },
    {
     "data": {
      "text/plain": [
       "['label_encoder.joblib']"
      ]
     },
     "execution_count": 1,
     "metadata": {},
     "output_type": "execute_result"
    }
   ],
   "source": [
    "import pandas as pd\n",
    "from sklearn.model_selection import train_test_split\n",
    "from sklearn.feature_extraction.text import TfidfVectorizer\n",
    "from sklearn.svm import LinearSVC\n",
    "from sklearn.metrics import accuracy_score, classification_report\n",
    "from sklearn.preprocessing import LabelEncoder\n",
    "from sklearn.utils import shuffle\n",
    "import re\n",
    "from nltk.corpus import stopwords\n",
    "from nltk.tokenize import word_tokenize\n",
    "from joblib import dump\n",
    "\n",
    "\n",
    "df1 = pd.read_csv('../backend/dataset1.tsv', delimiter='\\t')\n",
    "\n",
    "# Load the second dataset\n",
    "df2 = pd.read_csv('../backend/dataset2.csv')\n",
    "df3=pd.read_csv('../backend/dataset3.csv')\n",
    "\n",
    "# Check column names\n",
    "print(\"Original Dataset Columns:\", df1.columns)\n",
    "print(\"Second Dataset Columns:\", df2.columns)\n",
    "\n",
    "# Rename columns if necessary\n",
    "df2 = df2.rename(columns={'Pattern String': 'text'})\n",
    "\n",
    "# Concatenate the two datasets based on their common columns\n",
    "df = pd.concat([df1[['text', 'Pattern Category']], df2[['text', 'Pattern Category']],df3[['text', 'Pattern Category']]], ignore_index=True)\n",
    "\n",
    "# Drop rows with missing values\n",
    "df = df.dropna(subset=['text', 'Pattern Category'])\n",
    "\n",
    "# Display the count of rows after concatenation\n",
    "print(df.count())\n",
    "# Shuffle the dataset\n",
    "df = shuffle(df, random_state=42)\n",
    "\n",
    "# Data preprocessing\n",
    "def preprocess_text(text):\n",
    "    text = text.lower()\n",
    "    text = re.sub(r'[^a-z\\s]', '', text)\n",
    "    stop_words = set(stopwords.words('english'))\n",
    "    tokens = word_tokenize(text)\n",
    "    tokens = [word for word in tokens if word not in stop_words]\n",
    "    text = ' '.join(tokens)\n",
    "    return text\n",
    "\n",
    "df['text'] = df['text'].apply(preprocess_text)\n",
    "label_encoder = LabelEncoder()\n",
    "df['Pattern Category'] = label_encoder.fit_transform(df['Pattern Category'])\n",
    "\n",
    "# Features (X) - 'text', Labels (y) - 'Pattern Category'\n",
    "X = df['text']\n",
    "y = df['Pattern Category']\n",
    "\n",
    "# Split the dataset into training and testing sets\n",
    "X_train, X_test, y_train, y_test = train_test_split(X, y, test_size=0.2, random_state=42)\n",
    "\n",
    "# TF-IDF Vectorization\n",
    "tfidf_vectorizer = TfidfVectorizer(max_features=5000)\n",
    "X_train_tfidf = tfidf_vectorizer.fit_transform(X_train)\n",
    "X_test_tfidf = tfidf_vectorizer.transform(X_test)\n",
    "\n",
    "# Linear Support Vector Machine (SVM) model\n",
    "svm_model = LinearSVC()\n",
    "svm_model.fit(X_train_tfidf, y_train)\n",
    "\n",
    "# Predictions on the test set\n",
    "y_pred = svm_model.predict(X_test_tfidf)\n",
    "\n",
    "# Evaluate the model\n",
    "accuracy = accuracy_score(y_test, y_pred)\n",
    "print(f\"Accuracy: {accuracy:.2f}\")\n",
    "\n",
    "# Display classification report for precision, recall, and F1-score\n",
    "print(\"Classification Report:\\n\", classification_report(y_test, y_pred))\n",
    "\n",
    "# Save the trained model to a file\n",
    "model_filename = 'svm_model.joblib'\n",
    "dump(svm_model, model_filename)\n",
    "\n",
    "# Save the TF-IDF vectorizer as well for later use in the frontend\n",
    "vectorizer_filename = 'tfidf_vectorizer.joblib'\n",
    "dump(tfidf_vectorizer, vectorizer_filename)\n",
    "\n",
    "# Save the LabelEncoder\n",
    "label_encoder_filename = 'label_encoder.joblib'\n",
    "dump(label_encoder, label_encoder_filename)\n"
   ]
  }
 ],
 "metadata": {
  "kernelspec": {
   "display_name": "Python 3",
   "language": "python",
   "name": "python3"
  },
  "language_info": {
   "codemirror_mode": {
    "name": "ipython",
    "version": 3
   },
   "file_extension": ".py",
   "mimetype": "text/x-python",
   "name": "python",
   "nbconvert_exporter": "python",
   "pygments_lexer": "ipython3",
   "version": "3.10.0"
  }
 },
 "nbformat": 4,
 "nbformat_minor": 2
}
